{
 "cells": [
  {
   "cell_type": "code",
   "execution_count": 22,
   "metadata": {},
   "outputs": [],
   "source": [
    "#import pandas as pd\n",
    "#import keras"
   ]
  },
  {
   "cell_type": "code",
   "execution_count": 38,
   "metadata": {},
   "outputs": [],
   "source": [
    "#open file and make a  list of lines by splitting the text file at every occurance of '\\n'.\n",
    "\n",
    "f=  open(\"deu-eng.txt\", 'r', encoding='utf-8') \n",
    "lines = f.read().split('\\n')"
   ]
  },
  {
   "cell_type": "code",
   "execution_count": 40,
   "metadata": {},
   "outputs": [
    {
     "data": {
      "text/plain": [
       "169814"
      ]
     },
     "execution_count": 40,
     "metadata": {},
     "output_type": "execute_result"
    }
   ],
   "source": [
    "#length \n",
    "len(lines)"
   ]
  },
  {
   "cell_type": "code",
   "execution_count": 41,
   "metadata": {},
   "outputs": [],
   "source": [
    "#need to split each line into input text and target text\n",
    "input_texts = []\n",
    "target_texts = []\n",
    "#translation is being done by character to character \n",
    "input_characters = set()\n",
    "target_characters = set()"
   ]
  },
  {
   "cell_type": "code",
   "execution_count": 42,
   "metadata": {},
   "outputs": [
    {
     "data": {
      "text/plain": [
       "10000"
      ]
     },
     "execution_count": 42,
     "metadata": {},
     "output_type": "execute_result"
    }
   ],
   "source": [
    "num_samples = 10000\n",
    "num_samples"
   ]
  },
  {
   "cell_type": "code",
   "execution_count": 43,
   "metadata": {},
   "outputs": [],
   "source": [
    "#loop over every sample we choose for training and fill the lists and sets. We'll also add '\\t'\n",
    "#(start-of-sequence) and '\\n' (end-of-sequence) characters to every target text.\n",
    "for line in lines[: min(num_samples, len(lines) - 1)]:\n",
    "  input_text, target_text = line.split('\\t')\n",
    "  target_text = '\\t' + target_text + '\\n'\n",
    "  input_texts.append(input_text)\n",
    "  target_texts.append(target_text)\n",
    "  for char in input_text:\n",
    "    if char not in input_characters:\n",
    "      input_characters.add(char)\n",
    "  for char in target_text:\n",
    "    if char not in target_characters:\n",
    "      target_characters.add(char)"
   ]
  },
  {
   "cell_type": "code",
   "execution_count": 44,
   "metadata": {},
   "outputs": [
    {
     "data": {
      "text/plain": [
       "\"It's me!\""
      ]
     },
     "execution_count": 44,
     "metadata": {},
     "output_type": "execute_result"
    }
   ],
   "source": [
    "input_texts[155]"
   ]
  },
  {
   "cell_type": "code",
   "execution_count": 45,
   "metadata": {},
   "outputs": [
    {
     "data": {
      "text/plain": [
       "\"\\tIch bin's.\\n\""
      ]
     },
     "execution_count": 45,
     "metadata": {},
     "output_type": "execute_result"
    }
   ],
   "source": [
    "target_texts[155]"
   ]
  },
  {
   "cell_type": "code",
   "execution_count": 46,
   "metadata": {},
   "outputs": [
    {
     "name": "stdout",
     "output_type": "stream",
     "text": [
      "Number of samples: 10000\n",
      "Number of unique input tokens: 70\n",
      "Number of unique output tokens: 87\n",
      "Max sequence length for inputs: 16\n",
      "Max sequence length for outputs: 53\n"
     ]
    }
   ],
   "source": [
    "#characteristics of input and target sequences\n",
    "input_characters = sorted(list(input_characters))\n",
    "target_characters = sorted(list(target_characters))\n",
    "num_encoder_tokens = len(input_characters)\n",
    "num_decoder_tokens = len(target_characters)\n",
    "max_encoder_seq_length = max([len(txt) for txt in input_texts])\n",
    "max_decoder_seq_length = max([len(txt) for txt in target_texts])\n",
    "\n",
    "print('Number of samples:', len(input_texts))\n",
    "print('Number of unique input tokens:', num_encoder_tokens)\n",
    "print('Number of unique output tokens:', num_decoder_tokens)\n",
    "print('Max sequence length for inputs:', max_encoder_seq_length)\n",
    "print('Max sequence length for outputs:', max_decoder_seq_length)"
   ]
  },
  {
   "cell_type": "code",
   "execution_count": 47,
   "metadata": {},
   "outputs": [
    {
     "name": "stdout",
     "output_type": "stream",
     "text": [
      "[' ', '!', '\"', '$', '%', \"'\", ',', '-', '.', '0', '1', '2', '3', '4', '5', '7', '8', '9', ':', '?', 'A', 'B', 'C', 'D', 'E', 'F', 'G', 'H', 'I', 'J', 'K', 'L', 'M', 'N', 'O', 'P', 'Q', 'R', 'S', 'T', 'U', 'V', 'W', 'Y', 'a', 'b', 'c', 'd', 'e', 'f', 'g', 'h', 'i', 'j', 'k', 'l', 'm', 'n', 'o', 'p', 'q', 'r', 's', 't', 'u', 'v', 'w', 'x', 'y', 'z']\n"
     ]
    }
   ],
   "source": [
    "print(input_characters)"
   ]
  },
  {
   "cell_type": "code",
   "execution_count": 48,
   "metadata": {},
   "outputs": [
    {
     "name": "stdout",
     "output_type": "stream",
     "text": [
      "['\\t', '\\n', ' ', '!', '$', '%', \"'\", ',', '-', '.', '0', '1', '2', '3', '4', '5', '7', '8', '9', ':', '?', 'A', 'B', 'C', 'D', 'E', 'F', 'G', 'H', 'I', 'J', 'K', 'L', 'M', 'N', 'O', 'P', 'R', 'S', 'T', 'U', 'V', 'W', 'Y', 'Z', 'a', 'b', 'c', 'd', 'e', 'f', 'g', 'h', 'i', 'j', 'k', 'l', 'm', 'n', 'o', 'p', 'q', 'r', 's', 't', 'u', 'v', 'w', 'x', 'y', 'z', '\\xa0', '«', '»', 'Ä', 'Ö', 'Ü', 'ß', 'ä', 'é', 'ö', 'ü', 'ō', '’', '“', '„', '\\u202f']\n"
     ]
    }
   ],
   "source": [
    "print(target_characters)"
   ]
  },
  {
   "cell_type": "code",
   "execution_count": 49,
   "metadata": {},
   "outputs": [],
   "source": [
    "input_token_index = dict(\n",
    "  [(char, i) for i, char in enumerate(input_characters)])\n",
    "target_token_index = dict(\n",
    "  [(char, i) for i, char in enumerate(target_characters)])"
   ]
  },
  {
   "cell_type": "code",
   "execution_count": 50,
   "metadata": {},
   "outputs": [],
   "source": [
    "import numpy as np\n",
    "\n",
    "encoder_input_data = np.zeros(\n",
    "  (len(input_texts), max_encoder_seq_length, num_encoder_tokens),\n",
    "  dtype='float32')\n",
    "decoder_input_data = np.zeros(\n",
    "  (len(input_texts), max_decoder_seq_length, num_decoder_tokens),\n",
    "  dtype='float32')\n",
    "decoder_target_data = np.zeros(\n",
    "  (len(input_texts), max_decoder_seq_length, num_decoder_tokens),\n",
    "  dtype='float32')"
   ]
  },
  {
   "cell_type": "code",
   "execution_count": 51,
   "metadata": {},
   "outputs": [
    {
     "data": {
      "text/plain": [
       "(10000, 16, 70)"
      ]
     },
     "execution_count": 51,
     "metadata": {},
     "output_type": "execute_result"
    }
   ],
   "source": [
    "encoder_input_data.shape"
   ]
  },
  {
   "cell_type": "code",
   "execution_count": 52,
   "metadata": {},
   "outputs": [
    {
     "data": {
      "text/plain": [
       "(10000, 53, 87)"
      ]
     },
     "execution_count": 52,
     "metadata": {},
     "output_type": "execute_result"
    }
   ],
   "source": [
    "decoder_input_data.shape"
   ]
  },
  {
   "cell_type": "code",
   "execution_count": 53,
   "metadata": {},
   "outputs": [],
   "source": [
    "for i, (input_text, target_text) in enumerate(zip(input_texts, target_texts)):\n",
    "  for t, char in enumerate(input_text):\n",
    "    encoder_input_data[i, t, input_token_index[char]] = 1.\n",
    "  for t, char in enumerate(target_text):\n",
    "    # decoder_target_data is ahead of decoder_input_data by one timestep\n",
    "    decoder_input_data[i, t, target_token_index[char]] = 1.\n",
    "    if t > 0:\n",
    "      # decoder_target_data will be ahead by one timestep\n",
    "      # and will not include the start character.\n",
    "      decoder_target_data[i, t - 1, target_token_index[char]] = 1."
   ]
  },
  {
   "cell_type": "code",
   "execution_count": 54,
   "metadata": {},
   "outputs": [
    {
     "data": {
      "text/plain": [
       "(16, 70)"
      ]
     },
     "execution_count": 54,
     "metadata": {},
     "output_type": "execute_result"
    }
   ],
   "source": [
    "encoder_input_data[155].shape"
   ]
  },
  {
   "cell_type": "code",
   "execution_count": 55,
   "metadata": {},
   "outputs": [],
   "source": [
    "import keras, tensorflow\n",
    "from keras.models import Model\n",
    "from keras.layers import Input, LSTM, Dense\n",
    "import numpy as np"
   ]
  },
  {
   "cell_type": "code",
   "execution_count": 56,
   "metadata": {},
   "outputs": [],
   "source": [
    "batch_size = 64  # batch size for training\n",
    "epochs = 100  # number of epochs to train for\n",
    "latent_dim = 256  # latent dimensionality of the encoding space"
   ]
  },
  {
   "cell_type": "code",
   "execution_count": 57,
   "metadata": {},
   "outputs": [],
   "source": [
    "encoder_inputs = Input(shape=(None, num_encoder_tokens))\n",
    "encoder = LSTM(latent_dim, return_state=True)\n",
    "encoder_outputs, state_h, state_c = encoder(encoder_inputs)\n",
    "encoder_states = [state_h, state_c]"
   ]
  },
  {
   "cell_type": "code",
   "execution_count": 58,
   "metadata": {},
   "outputs": [],
   "source": [
    "decoder_inputs = Input(shape=(None, num_decoder_tokens))\n",
    "decoder_lstm = LSTM(latent_dim, return_sequences=True, return_state=True)\n",
    "decoder_outputs, _, _ = decoder_lstm(decoder_inputs,\n",
    "                                     initial_state=encoder_states)\n",
    "decoder_dense = Dense(num_decoder_tokens, activation='softmax')\n",
    "decoder_outputs = decoder_dense(decoder_outputs)"
   ]
  },
  {
   "cell_type": "code",
   "execution_count": 59,
   "metadata": {},
   "outputs": [],
   "source": [
    "model = Model(inputs=[encoder_inputs, decoder_inputs], \n",
    "              outputs=decoder_outputs)"
   ]
  },
  {
   "cell_type": "code",
   "execution_count": 60,
   "metadata": {},
   "outputs": [
    {
     "name": "stdout",
     "output_type": "stream",
     "text": [
      "__________________________________________________________________________________________________\n",
      "Layer (type)                    Output Shape         Param #     Connected to                     \n",
      "==================================================================================================\n",
      "input_1 (InputLayer)            (None, None, 70)     0                                            \n",
      "__________________________________________________________________________________________________\n",
      "input_2 (InputLayer)            (None, None, 87)     0                                            \n",
      "__________________________________________________________________________________________________\n",
      "lstm_1 (LSTM)                   [(None, 256), (None, 334848      input_1[0][0]                    \n",
      "__________________________________________________________________________________________________\n",
      "lstm_2 (LSTM)                   [(None, None, 256),  352256      input_2[0][0]                    \n",
      "                                                                 lstm_1[0][1]                     \n",
      "                                                                 lstm_1[0][2]                     \n",
      "__________________________________________________________________________________________________\n",
      "dense_1 (Dense)                 (None, None, 87)     22359       lstm_2[0][0]                     \n",
      "==================================================================================================\n",
      "Total params: 709,463\n",
      "Trainable params: 709,463\n",
      "Non-trainable params: 0\n",
      "__________________________________________________________________________________________________\n"
     ]
    }
   ],
   "source": [
    "model.compile(optimizer='rmsprop', loss='categorical_crossentropy')\n",
    "model.summary()"
   ]
  },
  {
   "cell_type": "code",
   "execution_count": 61,
   "metadata": {},
   "outputs": [
    {
     "name": "stdout",
     "output_type": "stream",
     "text": [
      "Train on 8000 samples, validate on 2000 samples\n",
      "Epoch 1/100\n",
      "8000/8000 [==============================] - 58s 7ms/step - loss: 1.0235 - val_loss: 1.0630\n",
      "Epoch 2/100\n",
      "8000/8000 [==============================] - 56s 7ms/step - loss: 0.8009 - val_loss: 0.8607\n",
      "Epoch 3/100\n",
      "8000/8000 [==============================] - 57s 7ms/step - loss: 0.6765 - val_loss: 0.7659\n",
      "Epoch 4/100\n",
      "8000/8000 [==============================] - 57s 7ms/step - loss: 0.6130 - val_loss: 0.7099\n",
      "Epoch 5/100\n",
      "8000/8000 [==============================] - 49s 6ms/step - loss: 0.5673 - val_loss: 0.6807\n",
      "Epoch 6/100\n",
      "8000/8000 [==============================] - 51s 6ms/step - loss: 0.5324 - val_loss: 0.6431\n",
      "Epoch 7/100\n",
      "8000/8000 [==============================] - 51s 6ms/step - loss: 0.5037 - val_loss: 0.6221\n",
      "Epoch 8/100\n",
      "8000/8000 [==============================] - 52s 7ms/step - loss: 0.4803 - val_loss: 0.6031\n",
      "Epoch 9/100\n",
      "8000/8000 [==============================] - 48s 6ms/step - loss: 0.4604 - val_loss: 0.5939\n",
      "Epoch 10/100\n",
      "8000/8000 [==============================] - 48s 6ms/step - loss: 0.4432 - val_loss: 0.5859\n",
      "Epoch 11/100\n",
      "8000/8000 [==============================] - 58s 7ms/step - loss: 0.4276 - val_loss: 0.5682\n",
      "Epoch 12/100\n",
      "8000/8000 [==============================] - 55s 7ms/step - loss: 0.4127 - val_loss: 0.5620\n",
      "Epoch 13/100\n",
      "8000/8000 [==============================] - 57s 7ms/step - loss: 0.3991 - val_loss: 0.5470\n",
      "Epoch 14/100\n",
      "8000/8000 [==============================] - 57s 7ms/step - loss: 0.3862 - val_loss: 0.5427\n",
      "Epoch 15/100\n",
      "8000/8000 [==============================] - 57s 7ms/step - loss: 0.3741 - val_loss: 0.5322\n",
      "Epoch 16/100\n",
      "8000/8000 [==============================] - 57s 7ms/step - loss: 0.3628 - val_loss: 0.5286\n",
      "Epoch 17/100\n",
      "8000/8000 [==============================] - 58s 7ms/step - loss: 0.3519 - val_loss: 0.5247\n",
      "Epoch 18/100\n",
      "8000/8000 [==============================] - 57s 7ms/step - loss: 0.3412 - val_loss: 0.5162\n",
      "Epoch 19/100\n",
      "8000/8000 [==============================] - 58s 7ms/step - loss: 0.3313 - val_loss: 0.5210\n",
      "Epoch 20/100\n",
      "8000/8000 [==============================] - 58s 7ms/step - loss: 0.3217 - val_loss: 0.5200\n",
      "Epoch 21/100\n",
      "8000/8000 [==============================] - 58s 7ms/step - loss: 0.3128 - val_loss: 0.5156\n",
      "Epoch 22/100\n",
      "8000/8000 [==============================] - 58s 7ms/step - loss: 0.3035 - val_loss: 0.5117\n",
      "Epoch 23/100\n",
      "8000/8000 [==============================] - 57s 7ms/step - loss: 0.2952 - val_loss: 0.5148\n",
      "Epoch 24/100\n",
      "8000/8000 [==============================] - 58s 7ms/step - loss: 0.2868 - val_loss: 0.5146\n",
      "Epoch 25/100\n",
      "8000/8000 [==============================] - 58s 7ms/step - loss: 0.2787 - val_loss: 0.5155\n",
      "Epoch 26/100\n",
      "8000/8000 [==============================] - 57s 7ms/step - loss: 0.2715 - val_loss: 0.5136\n",
      "Epoch 27/100\n",
      "8000/8000 [==============================] - 58s 7ms/step - loss: 0.2637 - val_loss: 0.5145\n",
      "Epoch 28/100\n",
      "8000/8000 [==============================] - 58s 7ms/step - loss: 0.2566 - val_loss: 0.5230\n",
      "Epoch 29/100\n",
      "8000/8000 [==============================] - 58s 7ms/step - loss: 0.2494 - val_loss: 0.5179\n",
      "Epoch 30/100\n",
      "8000/8000 [==============================] - 58s 7ms/step - loss: 0.2428 - val_loss: 0.5304\n",
      "Epoch 31/100\n",
      "8000/8000 [==============================] - 57s 7ms/step - loss: 0.2366 - val_loss: 0.5263\n",
      "Epoch 32/100\n",
      "8000/8000 [==============================] - 57s 7ms/step - loss: 0.2302 - val_loss: 0.5279\n",
      "Epoch 33/100\n",
      "8000/8000 [==============================] - 58s 7ms/step - loss: 0.2241 - val_loss: 0.5352\n",
      "Epoch 34/100\n",
      "8000/8000 [==============================] - 57s 7ms/step - loss: 0.2185 - val_loss: 0.5303\n",
      "Epoch 35/100\n",
      "8000/8000 [==============================] - 55s 7ms/step - loss: 0.2126 - val_loss: 0.5403\n",
      "Epoch 36/100\n",
      "8000/8000 [==============================] - 47s 6ms/step - loss: 0.2074 - val_loss: 0.5450\n",
      "Epoch 37/100\n",
      "8000/8000 [==============================] - 54s 7ms/step - loss: 0.2019 - val_loss: 0.5495\n",
      "Epoch 38/100\n",
      "8000/8000 [==============================] - 54s 7ms/step - loss: 0.1970 - val_loss: 0.5568\n",
      "Epoch 39/100\n",
      "8000/8000 [==============================] - 55s 7ms/step - loss: 0.1919 - val_loss: 0.5569\n",
      "Epoch 40/100\n",
      "8000/8000 [==============================] - 51s 6ms/step - loss: 0.1874 - val_loss: 0.5599\n",
      "Epoch 41/100\n",
      "8000/8000 [==============================] - 57s 7ms/step - loss: 0.1827 - val_loss: 0.5674\n",
      "Epoch 42/100\n",
      "8000/8000 [==============================] - 59s 7ms/step - loss: 0.1784 - val_loss: 0.5671\n",
      "Epoch 43/100\n",
      "8000/8000 [==============================] - 60s 7ms/step - loss: 0.1742 - val_loss: 0.5771\n",
      "Epoch 44/100\n",
      "8000/8000 [==============================] - 59s 7ms/step - loss: 0.1702 - val_loss: 0.5772\n",
      "Epoch 45/100\n",
      "8000/8000 [==============================] - 60s 7ms/step - loss: 0.1666 - val_loss: 0.5889\n",
      "Epoch 46/100\n",
      "8000/8000 [==============================] - 59s 7ms/step - loss: 0.1626 - val_loss: 0.5850\n",
      "Epoch 47/100\n",
      "8000/8000 [==============================] - 49s 6ms/step - loss: 0.1588 - val_loss: 0.5972\n",
      "Epoch 48/100\n",
      "8000/8000 [==============================] - 48s 6ms/step - loss: 0.1554 - val_loss: 0.6007\n",
      "Epoch 49/100\n",
      "8000/8000 [==============================] - 51s 6ms/step - loss: 0.1524 - val_loss: 0.6116\n",
      "Epoch 50/100\n",
      "8000/8000 [==============================] - 55s 7ms/step - loss: 0.1486 - val_loss: 0.6110\n",
      "Epoch 51/100\n",
      "8000/8000 [==============================] - 58s 7ms/step - loss: 0.1458 - val_loss: 0.6145\n",
      "Epoch 52/100\n",
      "8000/8000 [==============================] - 58s 7ms/step - loss: 0.1426 - val_loss: 0.6229\n",
      "Epoch 53/100\n",
      "8000/8000 [==============================] - 57s 7ms/step - loss: 0.1397 - val_loss: 0.6252\n",
      "Epoch 54/100\n",
      "8000/8000 [==============================] - 58s 7ms/step - loss: 0.1368 - val_loss: 0.6308\n",
      "Epoch 55/100\n",
      "8000/8000 [==============================] - 57s 7ms/step - loss: 0.1340 - val_loss: 0.6391\n",
      "Epoch 56/100\n",
      "8000/8000 [==============================] - 58s 7ms/step - loss: 0.1313 - val_loss: 0.6410\n",
      "Epoch 57/100\n",
      "8000/8000 [==============================] - 58s 7ms/step - loss: 0.1285 - val_loss: 0.6566\n",
      "Epoch 58/100\n",
      "8000/8000 [==============================] - 58s 7ms/step - loss: 0.1263 - val_loss: 0.6586\n",
      "Epoch 59/100\n",
      "8000/8000 [==============================] - 58s 7ms/step - loss: 0.1235 - val_loss: 0.6605\n",
      "Epoch 60/100\n",
      "8000/8000 [==============================] - 58s 7ms/step - loss: 0.1207 - val_loss: 0.6661\n",
      "Epoch 61/100\n",
      "8000/8000 [==============================] - 57s 7ms/step - loss: 0.1191 - val_loss: 0.6742\n",
      "Epoch 62/100\n",
      "8000/8000 [==============================] - 57s 7ms/step - loss: 0.1164 - val_loss: 0.6729\n",
      "Epoch 63/100\n",
      "8000/8000 [==============================] - 58s 7ms/step - loss: 0.1142 - val_loss: 0.6747\n",
      "Epoch 64/100\n",
      "8000/8000 [==============================] - 58s 7ms/step - loss: 0.1121 - val_loss: 0.6851\n",
      "Epoch 65/100\n",
      "8000/8000 [==============================] - 58s 7ms/step - loss: 0.1098 - val_loss: 0.6895\n",
      "Epoch 66/100\n",
      "8000/8000 [==============================] - 59s 7ms/step - loss: 0.1080 - val_loss: 0.6946\n",
      "Epoch 67/100\n",
      "8000/8000 [==============================] - 58s 7ms/step - loss: 0.1062 - val_loss: 0.6975\n",
      "Epoch 68/100\n",
      "8000/8000 [==============================] - 58s 7ms/step - loss: 0.1039 - val_loss: 0.7079\n",
      "Epoch 69/100\n",
      "8000/8000 [==============================] - 58s 7ms/step - loss: 0.1018 - val_loss: 0.7176\n",
      "Epoch 70/100\n",
      "8000/8000 [==============================] - 45s 6ms/step - loss: 0.1000 - val_loss: 0.7192\n",
      "Epoch 71/100\n",
      "8000/8000 [==============================] - 48s 6ms/step - loss: 0.0984 - val_loss: 0.7168\n",
      "Epoch 72/100\n",
      "8000/8000 [==============================] - 52s 6ms/step - loss: 0.0967 - val_loss: 0.7211\n",
      "Epoch 73/100\n",
      "8000/8000 [==============================] - 58s 7ms/step - loss: 0.0947 - val_loss: 0.7331\n",
      "Epoch 74/100\n",
      "8000/8000 [==============================] - 58s 7ms/step - loss: 0.0932 - val_loss: 0.7327\n",
      "Epoch 75/100\n",
      "8000/8000 [==============================] - 56s 7ms/step - loss: 0.0917 - val_loss: 0.7442\n",
      "Epoch 76/100\n",
      "8000/8000 [==============================] - 54s 7ms/step - loss: 0.0896 - val_loss: 0.7477\n",
      "Epoch 77/100\n",
      "8000/8000 [==============================] - 49s 6ms/step - loss: 0.0883 - val_loss: 0.7502\n",
      "Epoch 78/100\n",
      "8000/8000 [==============================] - 38s 5ms/step - loss: 0.0870 - val_loss: 0.7510\n",
      "Epoch 79/100\n",
      "8000/8000 [==============================] - 33s 4ms/step - loss: 0.0854 - val_loss: 0.7602\n",
      "Epoch 80/100\n",
      "8000/8000 [==============================] - 33s 4ms/step - loss: 0.0838 - val_loss: 0.7668\n",
      "Epoch 81/100\n",
      "8000/8000 [==============================] - 35s 4ms/step - loss: 0.0826 - val_loss: 0.7733\n",
      "Epoch 82/100\n",
      "8000/8000 [==============================] - 35s 4ms/step - loss: 0.0812 - val_loss: 0.7759\n",
      "Epoch 83/100\n",
      "8000/8000 [==============================] - 38s 5ms/step - loss: 0.0797 - val_loss: 0.7770\n",
      "Epoch 84/100\n",
      "8000/8000 [==============================] - 38s 5ms/step - loss: 0.0783 - val_loss: 0.7795\n",
      "Epoch 85/100\n",
      "8000/8000 [==============================] - 37s 5ms/step - loss: 0.0774 - val_loss: 0.7828\n",
      "Epoch 86/100\n",
      "8000/8000 [==============================] - 36s 5ms/step - loss: 0.0758 - val_loss: 0.7898\n",
      "Epoch 87/100\n",
      "8000/8000 [==============================] - 38s 5ms/step - loss: 0.0746 - val_loss: 0.7926\n",
      "Epoch 88/100\n",
      "8000/8000 [==============================] - 39s 5ms/step - loss: 0.0737 - val_loss: 0.7989\n",
      "Epoch 89/100\n",
      "8000/8000 [==============================] - 37s 5ms/step - loss: 0.0722 - val_loss: 0.8058\n",
      "Epoch 90/100\n",
      "8000/8000 [==============================] - 37s 5ms/step - loss: 0.0710 - val_loss: 0.8018\n",
      "Epoch 91/100\n",
      "8000/8000 [==============================] - 38s 5ms/step - loss: 0.0699 - val_loss: 0.8077\n",
      "Epoch 92/100\n",
      "8000/8000 [==============================] - 37s 5ms/step - loss: 0.0687 - val_loss: 0.8196\n",
      "Epoch 93/100\n",
      "8000/8000 [==============================] - 37s 5ms/step - loss: 0.0679 - val_loss: 0.8212\n",
      "Epoch 94/100\n",
      "8000/8000 [==============================] - 36s 4ms/step - loss: 0.0666 - val_loss: 0.8262\n",
      "Epoch 95/100\n",
      "8000/8000 [==============================] - 37s 5ms/step - loss: 0.0655 - val_loss: 0.8291\n",
      "Epoch 96/100\n",
      "8000/8000 [==============================] - 36s 5ms/step - loss: 0.0645 - val_loss: 0.8329\n",
      "Epoch 97/100\n",
      "8000/8000 [==============================] - 36s 5ms/step - loss: 0.0635 - val_loss: 0.8310\n",
      "Epoch 98/100\n",
      "8000/8000 [==============================] - 37s 5ms/step - loss: 0.0623 - val_loss: 0.8358\n",
      "Epoch 99/100\n",
      "8000/8000 [==============================] - 37s 5ms/step - loss: 0.0616 - val_loss: 0.8427\n",
      "Epoch 100/100\n",
      "8000/8000 [==============================] - 38s 5ms/step - loss: 0.0605 - val_loss: 0.8536\n"
     ]
    },
    {
     "ename": "OSError",
     "evalue": "Unable to create file (unable to open file: name = '/results/seq2seq_eng-ger.h5', errno = 2, error message = 'No such file or directory', flags = 13, o_flags = 302)",
     "output_type": "error",
     "traceback": [
      "\u001b[1;31m---------------------------------------------------------------------------\u001b[0m",
      "\u001b[1;31mOSError\u001b[0m                                   Traceback (most recent call last)",
      "\u001b[1;32m<ipython-input-61-0f76b8d2d249>\u001b[0m in \u001b[0;36m<module>\u001b[1;34m\u001b[0m\n\u001b[0;32m      3\u001b[0m           \u001b[0mepochs\u001b[0m\u001b[1;33m=\u001b[0m\u001b[0mepochs\u001b[0m\u001b[1;33m,\u001b[0m\u001b[1;33m\u001b[0m\u001b[1;33m\u001b[0m\u001b[0m\n\u001b[0;32m      4\u001b[0m           validation_split=0.2)\n\u001b[1;32m----> 5\u001b[1;33m \u001b[0mmodel\u001b[0m\u001b[1;33m.\u001b[0m\u001b[0msave\u001b[0m\u001b[1;33m(\u001b[0m\u001b[1;34m'/results/seq2seq_eng-ger.h5'\u001b[0m\u001b[1;33m)\u001b[0m\u001b[1;33m\u001b[0m\u001b[1;33m\u001b[0m\u001b[0m\n\u001b[0m",
      "\u001b[1;32m~\\Anaconda3\\lib\\site-packages\\keras\\engine\\network.py\u001b[0m in \u001b[0;36msave\u001b[1;34m(self, filepath, overwrite, include_optimizer)\u001b[0m\n\u001b[0;32m   1088\u001b[0m             \u001b[1;32mraise\u001b[0m \u001b[0mNotImplementedError\u001b[0m\u001b[1;33m\u001b[0m\u001b[1;33m\u001b[0m\u001b[0m\n\u001b[0;32m   1089\u001b[0m         \u001b[1;32mfrom\u001b[0m \u001b[1;33m.\u001b[0m\u001b[1;33m.\u001b[0m\u001b[0mmodels\u001b[0m \u001b[1;32mimport\u001b[0m \u001b[0msave_model\u001b[0m\u001b[1;33m\u001b[0m\u001b[1;33m\u001b[0m\u001b[0m\n\u001b[1;32m-> 1090\u001b[1;33m         \u001b[0msave_model\u001b[0m\u001b[1;33m(\u001b[0m\u001b[0mself\u001b[0m\u001b[1;33m,\u001b[0m \u001b[0mfilepath\u001b[0m\u001b[1;33m,\u001b[0m \u001b[0moverwrite\u001b[0m\u001b[1;33m,\u001b[0m \u001b[0minclude_optimizer\u001b[0m\u001b[1;33m)\u001b[0m\u001b[1;33m\u001b[0m\u001b[1;33m\u001b[0m\u001b[0m\n\u001b[0m\u001b[0;32m   1091\u001b[0m \u001b[1;33m\u001b[0m\u001b[0m\n\u001b[0;32m   1092\u001b[0m     \u001b[1;32mdef\u001b[0m \u001b[0msave_weights\u001b[0m\u001b[1;33m(\u001b[0m\u001b[0mself\u001b[0m\u001b[1;33m,\u001b[0m \u001b[0mfilepath\u001b[0m\u001b[1;33m,\u001b[0m \u001b[0moverwrite\u001b[0m\u001b[1;33m=\u001b[0m\u001b[1;32mTrue\u001b[0m\u001b[1;33m)\u001b[0m\u001b[1;33m:\u001b[0m\u001b[1;33m\u001b[0m\u001b[1;33m\u001b[0m\u001b[0m\n",
      "\u001b[1;32m~\\Anaconda3\\lib\\site-packages\\keras\\engine\\saving.py\u001b[0m in \u001b[0;36msave_model\u001b[1;34m(model, filepath, overwrite, include_optimizer)\u001b[0m\n\u001b[0;32m    377\u001b[0m         \u001b[0mopened_new_file\u001b[0m \u001b[1;33m=\u001b[0m \u001b[1;32mFalse\u001b[0m\u001b[1;33m\u001b[0m\u001b[1;33m\u001b[0m\u001b[0m\n\u001b[0;32m    378\u001b[0m \u001b[1;33m\u001b[0m\u001b[0m\n\u001b[1;32m--> 379\u001b[1;33m     \u001b[0mf\u001b[0m \u001b[1;33m=\u001b[0m \u001b[0mh5dict\u001b[0m\u001b[1;33m(\u001b[0m\u001b[0mfilepath\u001b[0m\u001b[1;33m,\u001b[0m \u001b[0mmode\u001b[0m\u001b[1;33m=\u001b[0m\u001b[1;34m'w'\u001b[0m\u001b[1;33m)\u001b[0m\u001b[1;33m\u001b[0m\u001b[1;33m\u001b[0m\u001b[0m\n\u001b[0m\u001b[0;32m    380\u001b[0m \u001b[1;33m\u001b[0m\u001b[0m\n\u001b[0;32m    381\u001b[0m     \u001b[1;32mtry\u001b[0m\u001b[1;33m:\u001b[0m\u001b[1;33m\u001b[0m\u001b[1;33m\u001b[0m\u001b[0m\n",
      "\u001b[1;32m~\\Anaconda3\\lib\\site-packages\\keras\\utils\\io_utils.py\u001b[0m in \u001b[0;36m__init__\u001b[1;34m(self, path, mode)\u001b[0m\n\u001b[0;32m    184\u001b[0m             \u001b[0mself\u001b[0m\u001b[1;33m.\u001b[0m\u001b[0m_is_file\u001b[0m \u001b[1;33m=\u001b[0m \u001b[1;32mFalse\u001b[0m\u001b[1;33m\u001b[0m\u001b[1;33m\u001b[0m\u001b[0m\n\u001b[0;32m    185\u001b[0m         \u001b[1;32melif\u001b[0m \u001b[0misinstance\u001b[0m\u001b[1;33m(\u001b[0m\u001b[0mpath\u001b[0m\u001b[1;33m,\u001b[0m \u001b[0mstr\u001b[0m\u001b[1;33m)\u001b[0m\u001b[1;33m:\u001b[0m\u001b[1;33m\u001b[0m\u001b[1;33m\u001b[0m\u001b[0m\n\u001b[1;32m--> 186\u001b[1;33m             \u001b[0mself\u001b[0m\u001b[1;33m.\u001b[0m\u001b[0mdata\u001b[0m \u001b[1;33m=\u001b[0m \u001b[0mh5py\u001b[0m\u001b[1;33m.\u001b[0m\u001b[0mFile\u001b[0m\u001b[1;33m(\u001b[0m\u001b[0mpath\u001b[0m\u001b[1;33m,\u001b[0m \u001b[0mmode\u001b[0m\u001b[1;33m=\u001b[0m\u001b[0mmode\u001b[0m\u001b[1;33m)\u001b[0m\u001b[1;33m\u001b[0m\u001b[1;33m\u001b[0m\u001b[0m\n\u001b[0m\u001b[0;32m    187\u001b[0m             \u001b[0mself\u001b[0m\u001b[1;33m.\u001b[0m\u001b[0m_is_file\u001b[0m \u001b[1;33m=\u001b[0m \u001b[1;32mTrue\u001b[0m\u001b[1;33m\u001b[0m\u001b[1;33m\u001b[0m\u001b[0m\n\u001b[0;32m    188\u001b[0m         \u001b[1;32melif\u001b[0m \u001b[0misinstance\u001b[0m\u001b[1;33m(\u001b[0m\u001b[0mpath\u001b[0m\u001b[1;33m,\u001b[0m \u001b[0mdict\u001b[0m\u001b[1;33m)\u001b[0m\u001b[1;33m:\u001b[0m\u001b[1;33m\u001b[0m\u001b[1;33m\u001b[0m\u001b[0m\n",
      "\u001b[1;32m~\\Anaconda3\\lib\\site-packages\\h5py\\_hl\\files.py\u001b[0m in \u001b[0;36m__init__\u001b[1;34m(self, name, mode, driver, libver, userblock_size, swmr, **kwds)\u001b[0m\n\u001b[0;32m    310\u001b[0m             \u001b[1;32mwith\u001b[0m \u001b[0mphil\u001b[0m\u001b[1;33m:\u001b[0m\u001b[1;33m\u001b[0m\u001b[1;33m\u001b[0m\u001b[0m\n\u001b[0;32m    311\u001b[0m                 \u001b[0mfapl\u001b[0m \u001b[1;33m=\u001b[0m \u001b[0mmake_fapl\u001b[0m\u001b[1;33m(\u001b[0m\u001b[0mdriver\u001b[0m\u001b[1;33m,\u001b[0m \u001b[0mlibver\u001b[0m\u001b[1;33m,\u001b[0m \u001b[1;33m**\u001b[0m\u001b[0mkwds\u001b[0m\u001b[1;33m)\u001b[0m\u001b[1;33m\u001b[0m\u001b[1;33m\u001b[0m\u001b[0m\n\u001b[1;32m--> 312\u001b[1;33m                 \u001b[0mfid\u001b[0m \u001b[1;33m=\u001b[0m \u001b[0mmake_fid\u001b[0m\u001b[1;33m(\u001b[0m\u001b[0mname\u001b[0m\u001b[1;33m,\u001b[0m \u001b[0mmode\u001b[0m\u001b[1;33m,\u001b[0m \u001b[0muserblock_size\u001b[0m\u001b[1;33m,\u001b[0m \u001b[0mfapl\u001b[0m\u001b[1;33m,\u001b[0m \u001b[0mswmr\u001b[0m\u001b[1;33m=\u001b[0m\u001b[0mswmr\u001b[0m\u001b[1;33m)\u001b[0m\u001b[1;33m\u001b[0m\u001b[1;33m\u001b[0m\u001b[0m\n\u001b[0m\u001b[0;32m    313\u001b[0m \u001b[1;33m\u001b[0m\u001b[0m\n\u001b[0;32m    314\u001b[0m                 \u001b[1;32mif\u001b[0m \u001b[0mswmr_support\u001b[0m\u001b[1;33m:\u001b[0m\u001b[1;33m\u001b[0m\u001b[1;33m\u001b[0m\u001b[0m\n",
      "\u001b[1;32m~\\Anaconda3\\lib\\site-packages\\h5py\\_hl\\files.py\u001b[0m in \u001b[0;36mmake_fid\u001b[1;34m(name, mode, userblock_size, fapl, fcpl, swmr)\u001b[0m\n\u001b[0;32m    146\u001b[0m         \u001b[0mfid\u001b[0m \u001b[1;33m=\u001b[0m \u001b[0mh5f\u001b[0m\u001b[1;33m.\u001b[0m\u001b[0mcreate\u001b[0m\u001b[1;33m(\u001b[0m\u001b[0mname\u001b[0m\u001b[1;33m,\u001b[0m \u001b[0mh5f\u001b[0m\u001b[1;33m.\u001b[0m\u001b[0mACC_EXCL\u001b[0m\u001b[1;33m,\u001b[0m \u001b[0mfapl\u001b[0m\u001b[1;33m=\u001b[0m\u001b[0mfapl\u001b[0m\u001b[1;33m,\u001b[0m \u001b[0mfcpl\u001b[0m\u001b[1;33m=\u001b[0m\u001b[0mfcpl\u001b[0m\u001b[1;33m)\u001b[0m\u001b[1;33m\u001b[0m\u001b[1;33m\u001b[0m\u001b[0m\n\u001b[0;32m    147\u001b[0m     \u001b[1;32melif\u001b[0m \u001b[0mmode\u001b[0m \u001b[1;33m==\u001b[0m \u001b[1;34m'w'\u001b[0m\u001b[1;33m:\u001b[0m\u001b[1;33m\u001b[0m\u001b[1;33m\u001b[0m\u001b[0m\n\u001b[1;32m--> 148\u001b[1;33m         \u001b[0mfid\u001b[0m \u001b[1;33m=\u001b[0m \u001b[0mh5f\u001b[0m\u001b[1;33m.\u001b[0m\u001b[0mcreate\u001b[0m\u001b[1;33m(\u001b[0m\u001b[0mname\u001b[0m\u001b[1;33m,\u001b[0m \u001b[0mh5f\u001b[0m\u001b[1;33m.\u001b[0m\u001b[0mACC_TRUNC\u001b[0m\u001b[1;33m,\u001b[0m \u001b[0mfapl\u001b[0m\u001b[1;33m=\u001b[0m\u001b[0mfapl\u001b[0m\u001b[1;33m,\u001b[0m \u001b[0mfcpl\u001b[0m\u001b[1;33m=\u001b[0m\u001b[0mfcpl\u001b[0m\u001b[1;33m)\u001b[0m\u001b[1;33m\u001b[0m\u001b[1;33m\u001b[0m\u001b[0m\n\u001b[0m\u001b[0;32m    149\u001b[0m     \u001b[1;32melif\u001b[0m \u001b[0mmode\u001b[0m \u001b[1;33m==\u001b[0m \u001b[1;34m'a'\u001b[0m\u001b[1;33m:\u001b[0m\u001b[1;33m\u001b[0m\u001b[1;33m\u001b[0m\u001b[0m\n\u001b[0;32m    150\u001b[0m         \u001b[1;31m# Open in append mode (read/write).\u001b[0m\u001b[1;33m\u001b[0m\u001b[1;33m\u001b[0m\u001b[1;33m\u001b[0m\u001b[0m\n",
      "\u001b[1;32mh5py\\_objects.pyx\u001b[0m in \u001b[0;36mh5py._objects.with_phil.wrapper\u001b[1;34m()\u001b[0m\n",
      "\u001b[1;32mh5py\\_objects.pyx\u001b[0m in \u001b[0;36mh5py._objects.with_phil.wrapper\u001b[1;34m()\u001b[0m\n",
      "\u001b[1;32mh5py\\h5f.pyx\u001b[0m in \u001b[0;36mh5py.h5f.create\u001b[1;34m()\u001b[0m\n",
      "\u001b[1;31mOSError\u001b[0m: Unable to create file (unable to open file: name = '/results/seq2seq_eng-ger.h5', errno = 2, error message = 'No such file or directory', flags = 13, o_flags = 302)"
     ]
    }
   ],
   "source": [
    "model.fit([encoder_input_data, decoder_input_data], decoder_target_data,\n",
    "          batch_size=batch_size,\n",
    "          epochs=epochs,\n",
    "          validation_split=0.2)\n",
    "model.save('/results/seq2seq_eng-ger.h5')"
   ]
  },
  {
   "cell_type": "code",
   "execution_count": 65,
   "metadata": {},
   "outputs": [],
   "source": [
    "model = Model([encoder_inputs, decoder_inputs], decoder_outputs)\n",
    "model.compile(optimizer='rmsprop', loss='categorical_crossentropy')\n",
    "model.load_weights('C://Users//Ayushi Agarwal//Downloads//seq2seq_eng-ger.h5')"
   ]
  },
  {
   "cell_type": "code",
   "execution_count": 66,
   "metadata": {},
   "outputs": [],
   "source": [
    "encoder_model = Model(encoder_inputs, encoder_states)\n",
    "\n",
    "decoder_state_input_h = Input(shape=(latent_dim,))\n",
    "decoder_state_input_c = Input(shape=(latent_dim,))\n",
    "decoder_states_inputs = [decoder_state_input_h, decoder_state_input_c]\n",
    "\n",
    "decoder_outputs, state_h, state_c = decoder_lstm(\n",
    "  decoder_inputs, initial_state=decoder_states_inputs)\n",
    "decoder_states = [state_h, state_c]\n",
    "decoder_outputs = decoder_dense(decoder_outputs)\n",
    "\n",
    "decoder_model = Model(\n",
    "  [decoder_inputs] + decoder_states_inputs,\n",
    "  [decoder_outputs] + decoder_states)"
   ]
  },
  {
   "cell_type": "code",
   "execution_count": 67,
   "metadata": {},
   "outputs": [],
   "source": [
    "# reverse-lookup token index to turn sequences back to characters\n",
    "reverse_input_char_index = dict(\n",
    "  (i, char) for char, i in input_token_index.items())\n",
    "reverse_target_char_index = dict(\n",
    "  (i, char) for char, i in target_token_index.items())"
   ]
  },
  {
   "cell_type": "code",
   "execution_count": 68,
   "metadata": {},
   "outputs": [],
   "source": [
    "def decode_sequence(input_seq):\n",
    "  # encode the input sequence to get the internal state vectors.\n",
    "  states_value = encoder_model.predict(input_seq)\n",
    "  \n",
    "  # generate empty target sequence of length 1 with only the start character\n",
    "  target_seq = np.zeros((1, 1, num_decoder_tokens))\n",
    "  target_seq[0, 0, target_token_index['\\t']] = 1.\n",
    "  \n",
    "  # output sequence loop\n",
    "  stop_condition = False\n",
    "  decoded_sentence = ''\n",
    "  while not stop_condition:\n",
    "    output_tokens, h, c = decoder_model.predict(\n",
    "      [target_seq] + states_value)\n",
    "    \n",
    "    # sample a token and add the corresponding character to the \n",
    "    # decoded sequence\n",
    "    sampled_token_index = np.argmax(output_tokens[0, -1, :])\n",
    "    sampled_char = reverse_target_char_index[sampled_token_index]\n",
    "    decoded_sentence += sampled_char\n",
    "    \n",
    "    # check for the exit condition: either hitting max length\n",
    "    # or predicting the 'stop' character\n",
    "    if (sampled_char == '\\n' or \n",
    "        len(decoded_sentence) > max_decoder_seq_length):\n",
    "      stop_condition = True\n",
    "     # update the target sequence (length 1).\n",
    "    target_seq = np.zeros((1, 1, num_decoder_tokens))\n",
    "    target_seq[0, 0, sampled_token_index] = 1.\n",
    "    \n",
    "    # update states\n",
    "    states_value = [h, c]\n",
    "    \n",
    "  return decoded_sentence\n",
    "      "
   ]
  },
  {
   "cell_type": "code",
   "execution_count": 69,
   "metadata": {},
   "outputs": [
    {
     "name": "stdout",
     "output_type": "stream",
     "text": [
      "-\n",
      "Input sentence: Hi.\n",
      "Decoded sentence: Hallo!\n",
      "\n",
      "-\n",
      "Input sentence: Hi.\n",
      "Decoded sentence: Hallo!\n",
      "\n",
      "-\n",
      "Input sentence: Run!\n",
      "Decoded sentence: Lauf!\n",
      "\n",
      "-\n",
      "Input sentence: Fire!\n",
      "Decoded sentence: Feuer!\n",
      "\n",
      "-\n",
      "Input sentence: Help!\n",
      "Decoded sentence: Zu Hülf!\n",
      "\n",
      "-\n",
      "Input sentence: Help!\n",
      "Decoded sentence: Zu Hülf!\n",
      "\n",
      "-\n",
      "Input sentence: Stop!\n",
      "Decoded sentence: Stopp!\n",
      "\n",
      "-\n",
      "Input sentence: Wait!\n",
      "Decoded sentence: Warte!\n",
      "\n",
      "-\n",
      "Input sentence: Go on.\n",
      "Decoded sentence: Mach weiter.\n",
      "\n",
      "-\n",
      "Input sentence: Hello!\n",
      "Decoded sentence: Hallo!\n",
      "\n"
     ]
    }
   ],
   "source": [
    "for seq_index in range(10):\n",
    "  input_seq = encoder_input_data[seq_index: seq_index + 1]\n",
    "  decoded_sentence = decode_sequence(input_seq)\n",
    "  print('-')\n",
    "  print('Input sentence:', input_texts[seq_index])\n",
    "  print('Decoded sentence:', decoded_sentence)"
   ]
  },
  {
   "cell_type": "code",
   "execution_count": 70,
   "metadata": {},
   "outputs": [
    {
     "name": "stdout",
     "output_type": "stream",
     "text": [
      "How are you?\n",
      "Wie geht es dir?\n",
      "\n"
     ]
    }
   ],
   "source": [
    "input_sentence = \"How are you?\"\n",
    "test_sentence_tokenized = np.zeros(\n",
    "  (1, max_encoder_seq_length, num_encoder_tokens), dtype='float32')\n",
    "for t, char in enumerate(input_sentence):\n",
    "  test_sentence_tokenized[0, t, input_token_index[char]] = 1.\n",
    "print(input_sentence)\n",
    "print(decode_sequence(test_sentence_tokenized))"
   ]
  },
  {
   "cell_type": "code",
   "execution_count": 71,
   "metadata": {},
   "outputs": [],
   "source": [
    "val_input_texts = []\n",
    "val_target_texts = []\n",
    "line_ix = 12000\n",
    "for line in lines[line_ix:line_ix+10]:\n",
    "  input_text, target_text = line.split('\\t')\n",
    "  val_input_texts.append(input_text)\n",
    "  val_target_texts.append(target_text)\n",
    "\n",
    "val_encoder_input_data = np.zeros(\n",
    "  (len(val_input_texts), max([len(txt) for txt in val_input_texts]),\n",
    "   num_encoder_tokens), dtype='float32')\n",
    "\n",
    "for i, input_text in enumerate(val_input_texts):\n",
    "  for t, char in enumerate(input_text):\n",
    "    val_encoder_input_data[i, t, input_token_index[char]] = 1."
   ]
  },
  {
   "cell_type": "code",
   "execution_count": 72,
   "metadata": {},
   "outputs": [
    {
     "name": "stdout",
     "output_type": "stream",
     "text": [
      "-\n",
      "Input sentence: I bought the car.\n",
      "Decoded sentence: Ich habe es versucht.\n",
      "Ground Truth sentence: Ich habe das Auto gekauft.\n",
      "-\n",
      "Input sentence: I bowed politely.\n",
      "Decoded sentence: Ich habe eine gefunden.\n",
      "Ground Truth sentence: Ich verbeugte mich höflich.\n",
      "-\n",
      "Input sentence: I broke that one.\n",
      "Decoded sentence: Ich habe es kaputtgemacht.\n",
      "Ground Truth sentence: Ich habe das zerbrochen.\n",
      "-\n",
      "Input sentence: I came to say hi.\n",
      "Decoded sentence: Ich kam wegen Tom.\n",
      "Ground Truth sentence: Ich bin gekommen, um Hallo zu sagen.\n",
      "-\n",
      "Input sentence: I came yesterday.\n",
      "Decoded sentence: Ich bin mit dem Bus gekommen.\n",
      "Ground Truth sentence: Ich bin gestern gekommen.\n",
      "-\n",
      "Input sentence: I can bake bread.\n",
      "Decoded sentence: Ich kann es schaffen.\n",
      "Ground Truth sentence: Ich kann Brot backen.\n",
      "-\n",
      "Input sentence: I can be trusted.\n",
      "Decoded sentence: Ich kann nicht schwimmen.\n",
      "Ground Truth sentence: Man kann mir vertrauen.\n",
      "-\n",
      "Input sentence: I can carry that.\n",
      "Decoded sentence: Ich kann es schaffen.\n",
      "Ground Truth sentence: Ich kann das tragen.\n",
      "-\n",
      "Input sentence: I can explain it.\n",
      "Decoded sentence: Ich kann es beweisen.\n",
      "Ground Truth sentence: Ich kann es erklären.\n",
      "-\n",
      "Input sentence: I can name names.\n",
      "Decoded sentence: Ich kann singen.\n",
      "Ground Truth sentence: Ich weiß die Namen.\n"
     ]
    }
   ],
   "source": [
    "for seq_index in range(10):\n",
    "  input_seq = val_encoder_input_data[seq_index: seq_index + 1]\n",
    "  decoded_sentence = decode_sequence(input_seq)\n",
    "  print('-')\n",
    "  print('Input sentence:', val_input_texts[seq_index])\n",
    "  print('Decoded sentence:', decoded_sentence[:-1])\n",
    "  print('Ground Truth sentence:', val_target_texts[seq_index])"
   ]
  },
  {
   "cell_type": "code",
   "execution_count": null,
   "metadata": {},
   "outputs": [],
   "source": []
  }
 ],
 "metadata": {
  "kernelspec": {
   "display_name": "Python 3",
   "language": "python",
   "name": "python3"
  },
  "language_info": {
   "codemirror_mode": {
    "name": "ipython",
    "version": 3
   },
   "file_extension": ".py",
   "mimetype": "text/x-python",
   "name": "python",
   "nbconvert_exporter": "python",
   "pygments_lexer": "ipython3",
   "version": "3.6.8"
  }
 },
 "nbformat": 4,
 "nbformat_minor": 2
}
