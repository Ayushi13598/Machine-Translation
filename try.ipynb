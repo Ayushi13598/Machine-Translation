{
 "cells": [
  {
   "cell_type": "code",
   "execution_count": 1,
   "metadata": {},
   "outputs": [],
   "source": [
    "#import pandas as pd\n",
    "#import keras"
   ]
  },
  {
   "cell_type": "code",
   "execution_count": 2,
   "metadata": {},
   "outputs": [],
   "source": [
    "#open file and make a  list of lines by splitting the text file at every occurance of '\\n'.\n",
    "\n",
    "f=  open(\"deu-eng.txt\", 'r', encoding='utf-8') \n",
    "lines = f.read().split('\\n')"
   ]
  },
  {
   "cell_type": "code",
   "execution_count": 3,
   "metadata": {},
   "outputs": [
    {
     "data": {
      "text/plain": [
       "169814"
      ]
     },
     "execution_count": 3,
     "metadata": {},
     "output_type": "execute_result"
    }
   ],
   "source": [
    "#length \n",
    "len(lines)"
   ]
  },
  {
   "cell_type": "code",
   "execution_count": 4,
   "metadata": {},
   "outputs": [],
   "source": [
    "#need to split each line into input text and target text\n",
    "input_texts = []\n",
    "target_texts = []\n",
    "#translation is being done by character to character \n",
    "input_characters = set()\n",
    "target_characters = set()"
   ]
  },
  {
   "cell_type": "code",
   "execution_count": 5,
   "metadata": {},
   "outputs": [
    {
     "data": {
      "text/plain": [
       "10000"
      ]
     },
     "execution_count": 5,
     "metadata": {},
     "output_type": "execute_result"
    }
   ],
   "source": [
    "num_samples = 10000\n",
    "num_samples"
   ]
  },
  {
   "cell_type": "code",
   "execution_count": 6,
   "metadata": {},
   "outputs": [],
   "source": [
    "#loop over every sample we choose for training and fill the lists and sets. We'll also add '\\t'\n",
    "#(start-of-sequence) and '\\n' (end-of-sequence) characters to every target text.\n",
    "for line in lines[: min(num_samples, len(lines) - 1)]:\n",
    "  input_text, target_text = line.split('\\t')\n",
    "  target_text = '\\t' + target_text + '\\n'\n",
    "  input_texts.append(input_text)\n",
    "  target_texts.append(target_text)\n",
    "  for char in input_text:\n",
    "    if char not in input_characters:\n",
    "      input_characters.add(char)\n",
    "  for char in target_text:\n",
    "    if char not in target_characters:\n",
    "      target_characters.add(char)"
   ]
  },
  {
   "cell_type": "code",
   "execution_count": 7,
   "metadata": {},
   "outputs": [
    {
     "data": {
      "text/plain": [
       "\"It's me!\""
      ]
     },
     "execution_count": 7,
     "metadata": {},
     "output_type": "execute_result"
    }
   ],
   "source": [
    "input_texts[155]"
   ]
  },
  {
   "cell_type": "code",
   "execution_count": 8,
   "metadata": {},
   "outputs": [
    {
     "data": {
      "text/plain": [
       "\"\\tIch bin's.\\n\""
      ]
     },
     "execution_count": 8,
     "metadata": {},
     "output_type": "execute_result"
    }
   ],
   "source": [
    "target_texts[155]"
   ]
  },
  {
   "cell_type": "code",
   "execution_count": 9,
   "metadata": {},
   "outputs": [
    {
     "name": "stdout",
     "output_type": "stream",
     "text": [
      "Number of samples: 10000\n",
      "Number of unique input tokens: 70\n",
      "Number of unique output tokens: 87\n",
      "Max sequence length for inputs: 16\n",
      "Max sequence length for outputs: 53\n"
     ]
    }
   ],
   "source": [
    "#characteristics of input and target sequences\n",
    "input_characters = sorted(list(input_characters))\n",
    "target_characters = sorted(list(target_characters))\n",
    "num_encoder_tokens = len(input_characters)\n",
    "num_decoder_tokens = len(target_characters)\n",
    "max_encoder_seq_length = max([len(txt) for txt in input_texts])\n",
    "max_decoder_seq_length = max([len(txt) for txt in target_texts])\n",
    "\n",
    "print('Number of samples:', len(input_texts))\n",
    "print('Number of unique input tokens:', num_encoder_tokens)\n",
    "print('Number of unique output tokens:', num_decoder_tokens)\n",
    "print('Max sequence length for inputs:', max_encoder_seq_length)\n",
    "print('Max sequence length for outputs:', max_decoder_seq_length)"
   ]
  },
  {
   "cell_type": "code",
   "execution_count": 10,
   "metadata": {},
   "outputs": [
    {
     "name": "stdout",
     "output_type": "stream",
     "text": [
      "[' ', '!', '\"', '$', '%', \"'\", ',', '-', '.', '0', '1', '2', '3', '4', '5', '7', '8', '9', ':', '?', 'A', 'B', 'C', 'D', 'E', 'F', 'G', 'H', 'I', 'J', 'K', 'L', 'M', 'N', 'O', 'P', 'Q', 'R', 'S', 'T', 'U', 'V', 'W', 'Y', 'a', 'b', 'c', 'd', 'e', 'f', 'g', 'h', 'i', 'j', 'k', 'l', 'm', 'n', 'o', 'p', 'q', 'r', 's', 't', 'u', 'v', 'w', 'x', 'y', 'z']\n"
     ]
    }
   ],
   "source": [
    "print(input_characters)"
   ]
  },
  {
   "cell_type": "code",
   "execution_count": 11,
   "metadata": {},
   "outputs": [
    {
     "name": "stdout",
     "output_type": "stream",
     "text": [
      "['\\t', '\\n', ' ', '!', '$', '%', \"'\", ',', '-', '.', '0', '1', '2', '3', '4', '5', '7', '8', '9', ':', '?', 'A', 'B', 'C', 'D', 'E', 'F', 'G', 'H', 'I', 'J', 'K', 'L', 'M', 'N', 'O', 'P', 'R', 'S', 'T', 'U', 'V', 'W', 'Y', 'Z', 'a', 'b', 'c', 'd', 'e', 'f', 'g', 'h', 'i', 'j', 'k', 'l', 'm', 'n', 'o', 'p', 'q', 'r', 's', 't', 'u', 'v', 'w', 'x', 'y', 'z', '\\xa0', '«', '»', 'Ä', 'Ö', 'Ü', 'ß', 'ä', 'é', 'ö', 'ü', 'ō', '’', '“', '„', '\\u202f']\n"
     ]
    }
   ],
   "source": [
    "print(target_characters)"
   ]
  },
  {
   "cell_type": "code",
   "execution_count": 12,
   "metadata": {},
   "outputs": [],
   "source": [
    "input_token_index = dict(\n",
    "  [(char, i) for i, char in enumerate(input_characters)])\n",
    "target_token_index = dict(\n",
    "  [(char, i) for i, char in enumerate(target_characters)])"
   ]
  },
  {
   "cell_type": "code",
   "execution_count": 13,
   "metadata": {},
   "outputs": [],
   "source": [
    "import numpy as np\n",
    "\n",
    "encoder_input_data = np.zeros(\n",
    "  (len(input_texts), max_encoder_seq_length, num_encoder_tokens),\n",
    "  dtype='float32')\n",
    "decoder_input_data = np.zeros(\n",
    "  (len(input_texts), max_decoder_seq_length, num_decoder_tokens),\n",
    "  dtype='float32')\n",
    "decoder_target_data = np.zeros(\n",
    "  (len(input_texts), max_decoder_seq_length, num_decoder_tokens),\n",
    "  dtype='float32')"
   ]
  },
  {
   "cell_type": "code",
   "execution_count": 14,
   "metadata": {},
   "outputs": [
    {
     "data": {
      "text/plain": [
       "(10000, 16, 70)"
      ]
     },
     "execution_count": 14,
     "metadata": {},
     "output_type": "execute_result"
    }
   ],
   "source": [
    "encoder_input_data.shape"
   ]
  },
  {
   "cell_type": "code",
   "execution_count": 15,
   "metadata": {},
   "outputs": [
    {
     "data": {
      "text/plain": [
       "(10000, 53, 87)"
      ]
     },
     "execution_count": 15,
     "metadata": {},
     "output_type": "execute_result"
    }
   ],
   "source": [
    "decoder_input_data.shape"
   ]
  },
  {
   "cell_type": "code",
   "execution_count": 16,
   "metadata": {},
   "outputs": [],
   "source": [
    "for i, (input_text, target_text) in enumerate(zip(input_texts, target_texts)):\n",
    "  for t, char in enumerate(input_text):\n",
    "    encoder_input_data[i, t, input_token_index[char]] = 1.\n",
    "  for t, char in enumerate(target_text):\n",
    "    # decoder_target_data is ahead of decoder_input_data by one timestep\n",
    "    decoder_input_data[i, t, target_token_index[char]] = 1.\n",
    "    if t > 0:\n",
    "      # decoder_target_data will be ahead by one timestep\n",
    "      # and will not include the start character.\n",
    "      decoder_target_data[i, t - 1, target_token_index[char]] = 1."
   ]
  },
  {
   "cell_type": "code",
   "execution_count": 17,
   "metadata": {},
   "outputs": [
    {
     "data": {
      "text/plain": [
       "(16, 70)"
      ]
     },
     "execution_count": 17,
     "metadata": {},
     "output_type": "execute_result"
    }
   ],
   "source": [
    "encoder_input_data[155].shape"
   ]
  },
  {
   "cell_type": "code",
   "execution_count": 18,
   "metadata": {},
   "outputs": [
    {
     "name": "stderr",
     "output_type": "stream",
     "text": [
      "Using TensorFlow backend.\n"
     ]
    }
   ],
   "source": [
    "import keras, tensorflow\n",
    "from keras.models import Model\n",
    "from keras.layers import Input, LSTM, Dense\n",
    "import numpy as np"
   ]
  },
  {
   "cell_type": "code",
   "execution_count": 19,
   "metadata": {},
   "outputs": [],
   "source": [
    "batch_size = 64  # batch size for training\n",
    "epochs = 100  # number of epochs to train for\n",
    "latent_dim = 256  # latent dimensionality of the encoding space"
   ]
  },
  {
   "cell_type": "code",
   "execution_count": 20,
   "metadata": {},
   "outputs": [],
   "source": [
    "encoder_inputs = Input(shape=(None, num_encoder_tokens))\n",
    "encoder = LSTM(latent_dim, return_state=True)\n",
    "encoder_outputs, state_h, state_c = encoder(encoder_inputs)\n",
    "encoder_states = [state_h, state_c]"
   ]
  },
  {
   "cell_type": "code",
   "execution_count": 21,
   "metadata": {},
   "outputs": [],
   "source": [
    "decoder_inputs = Input(shape=(None, num_decoder_tokens))\n",
    "decoder_lstm = LSTM(latent_dim, return_sequences=True, return_state=True)\n",
    "decoder_outputs, _, _ = decoder_lstm(decoder_inputs,\n",
    "                                     initial_state=encoder_states)\n",
    "decoder_dense = Dense(num_decoder_tokens, activation='softmax')\n",
    "decoder_outputs = decoder_dense(decoder_outputs)"
   ]
  },
  {
   "cell_type": "code",
   "execution_count": 22,
   "metadata": {},
   "outputs": [],
   "source": [
    "model = Model(inputs=[encoder_inputs, decoder_inputs], \n",
    "              outputs=decoder_outputs)"
   ]
  },
  {
   "cell_type": "code",
   "execution_count": 23,
   "metadata": {},
   "outputs": [
    {
     "name": "stdout",
     "output_type": "stream",
     "text": [
      "__________________________________________________________________________________________________\n",
      "Layer (type)                    Output Shape         Param #     Connected to                     \n",
      "==================================================================================================\n",
      "input_1 (InputLayer)            (None, None, 70)     0                                            \n",
      "__________________________________________________________________________________________________\n",
      "input_2 (InputLayer)            (None, None, 87)     0                                            \n",
      "__________________________________________________________________________________________________\n",
      "lstm_1 (LSTM)                   [(None, 256), (None, 334848      input_1[0][0]                    \n",
      "__________________________________________________________________________________________________\n",
      "lstm_2 (LSTM)                   [(None, None, 256),  352256      input_2[0][0]                    \n",
      "                                                                 lstm_1[0][1]                     \n",
      "                                                                 lstm_1[0][2]                     \n",
      "__________________________________________________________________________________________________\n",
      "dense_1 (Dense)                 (None, None, 87)     22359       lstm_2[0][0]                     \n",
      "==================================================================================================\n",
      "Total params: 709,463\n",
      "Trainable params: 709,463\n",
      "Non-trainable params: 0\n",
      "__________________________________________________________________________________________________\n"
     ]
    }
   ],
   "source": [
    "model.compile(optimizer='rmsprop', loss='categorical_crossentropy')\n",
    "model.summary()"
   ]
  },
  {
   "cell_type": "code",
   "execution_count": 25,
   "metadata": {},
   "outputs": [
    {
     "name": "stdout",
     "output_type": "stream",
     "text": [
      "Train on 8000 samples, validate on 2000 samples\n",
      "Epoch 1/100\n",
      "8000/8000 [==============================] - 36s 4ms/step - loss: 0.0561 - val_loss: 0.8584\n",
      "Epoch 2/100\n",
      "8000/8000 [==============================] - 65s 8ms/step - loss: 0.0547 - val_loss: 0.8543\n",
      "Epoch 3/100\n",
      "8000/8000 [==============================] - 64s 8ms/step - loss: 0.0539 - val_loss: 0.8608\n",
      "Epoch 4/100\n",
      "8000/8000 [==============================] - 7222s 903ms/step - loss: 0.0534 - val_loss: 0.8677\n",
      "Epoch 5/100\n",
      "8000/8000 [==============================] - 65s 8ms/step - loss: 0.0524 - val_loss: 0.8715\n",
      "Epoch 6/100\n",
      "8000/8000 [==============================] - 64s 8ms/step - loss: 0.0517 - val_loss: 0.8792\n",
      "Epoch 7/100\n",
      "8000/8000 [==============================] - 64s 8ms/step - loss: 0.0510 - val_loss: 0.8762\n",
      "Epoch 8/100\n",
      "8000/8000 [==============================] - 64s 8ms/step - loss: 0.0501 - val_loss: 0.8832\n",
      "Epoch 9/100\n",
      "8000/8000 [==============================] - 65s 8ms/step - loss: 0.0497 - val_loss: 0.8914\n",
      "Epoch 10/100\n",
      "8000/8000 [==============================] - 64s 8ms/step - loss: 0.0485 - val_loss: 0.8905\n",
      "Epoch 11/100\n",
      "8000/8000 [==============================] - 64s 8ms/step - loss: 0.0485 - val_loss: 0.8819\n",
      "Epoch 12/100\n",
      "8000/8000 [==============================] - 65s 8ms/step - loss: 0.0475 - val_loss: 0.8951\n",
      "Epoch 13/100\n",
      "8000/8000 [==============================] - 65s 8ms/step - loss: 0.0469 - val_loss: 0.8960\n",
      "Epoch 14/100\n",
      "8000/8000 [==============================] - 64s 8ms/step - loss: 0.0463 - val_loss: 0.8972\n",
      "Epoch 15/100\n",
      "8000/8000 [==============================] - 64s 8ms/step - loss: 0.0455 - val_loss: 0.9045\n",
      "Epoch 16/100\n",
      "8000/8000 [==============================] - 64s 8ms/step - loss: 0.0451 - val_loss: 0.9001\n",
      "Epoch 17/100\n",
      "8000/8000 [==============================] - 65s 8ms/step - loss: 0.0444 - val_loss: 0.9105\n",
      "Epoch 18/100\n",
      "8000/8000 [==============================] - 65s 8ms/step - loss: 0.0438 - val_loss: 0.9161\n",
      "Epoch 19/100\n",
      "8000/8000 [==============================] - 65s 8ms/step - loss: 0.0432 - val_loss: 0.9076\n",
      "Epoch 20/100\n",
      "8000/8000 [==============================] - 64s 8ms/step - loss: 0.0427 - val_loss: 0.9143\n",
      "Epoch 21/100\n",
      "8000/8000 [==============================] - 64s 8ms/step - loss: 0.0425 - val_loss: 0.9200\n",
      "Epoch 22/100\n",
      "8000/8000 [==============================] - 64s 8ms/step - loss: 0.0418 - val_loss: 0.9229\n",
      "Epoch 23/100\n",
      "8000/8000 [==============================] - 65s 8ms/step - loss: 0.0413 - val_loss: 0.9244\n",
      "Epoch 24/100\n",
      "8000/8000 [==============================] - 65s 8ms/step - loss: 0.0406 - val_loss: 0.9281\n",
      "Epoch 25/100\n",
      "8000/8000 [==============================] - 64s 8ms/step - loss: 0.0404 - val_loss: 0.9296\n",
      "Epoch 26/100\n",
      "8000/8000 [==============================] - 64s 8ms/step - loss: 0.0398 - val_loss: 0.9349\n",
      "Epoch 27/100\n",
      "8000/8000 [==============================] - 64s 8ms/step - loss: 0.0393 - val_loss: 0.9380\n",
      "Epoch 28/100\n",
      "8000/8000 [==============================] - 64s 8ms/step - loss: 0.0390 - val_loss: 0.9394\n",
      "Epoch 29/100\n",
      "8000/8000 [==============================] - 64s 8ms/step - loss: 0.0383 - val_loss: 0.9478\n",
      "Epoch 30/100\n",
      "8000/8000 [==============================] - 64s 8ms/step - loss: 0.0384 - val_loss: 0.9510\n",
      "Epoch 31/100\n",
      "8000/8000 [==============================] - 64s 8ms/step - loss: 0.0380 - val_loss: 0.9460\n",
      "Epoch 32/100\n",
      "8000/8000 [==============================] - 64s 8ms/step - loss: 0.0375 - val_loss: 0.9556\n",
      "Epoch 33/100\n",
      "8000/8000 [==============================] - 64s 8ms/step - loss: 0.0369 - val_loss: 0.9512\n",
      "Epoch 34/100\n",
      "8000/8000 [==============================] - 64s 8ms/step - loss: 0.0368 - val_loss: 0.9533\n",
      "Epoch 35/100\n",
      "8000/8000 [==============================] - 64s 8ms/step - loss: 0.0364 - val_loss: 0.9606\n",
      "Epoch 36/100\n",
      "8000/8000 [==============================] - 64s 8ms/step - loss: 0.0353 - val_loss: 0.9564\n",
      "Epoch 37/100\n",
      "8000/8000 [==============================] - 65s 8ms/step - loss: 0.0359 - val_loss: 0.9667\n",
      "Epoch 38/100\n",
      "8000/8000 [==============================] - 65s 8ms/step - loss: 0.0352 - val_loss: 0.9667\n",
      "Epoch 39/100\n",
      "8000/8000 [==============================] - 65s 8ms/step - loss: 0.0349 - val_loss: 0.9631\n",
      "Epoch 40/100\n",
      "8000/8000 [==============================] - 65s 8ms/step - loss: 0.0344 - val_loss: 0.9698\n",
      "Epoch 41/100\n",
      "8000/8000 [==============================] - 65s 8ms/step - loss: 0.0343 - val_loss: 0.9739\n",
      "Epoch 42/100\n",
      "8000/8000 [==============================] - 64s 8ms/step - loss: 0.0338 - val_loss: 0.9719\n",
      "Epoch 43/100\n",
      "8000/8000 [==============================] - 64s 8ms/step - loss: 0.0340 - val_loss: 0.9702\n",
      "Epoch 44/100\n",
      "8000/8000 [==============================] - 64s 8ms/step - loss: 0.0334 - val_loss: 0.9759\n",
      "Epoch 45/100\n",
      "8000/8000 [==============================] - 65s 8ms/step - loss: 0.0331 - val_loss: 0.9828\n",
      "Epoch 46/100\n",
      "8000/8000 [==============================] - 65s 8ms/step - loss: 0.0332 - val_loss: 0.9827\n",
      "Epoch 47/100\n",
      "8000/8000 [==============================] - 64s 8ms/step - loss: 0.0324 - val_loss: 0.9846\n",
      "Epoch 48/100\n",
      "8000/8000 [==============================] - 63s 8ms/step - loss: 0.0324 - val_loss: 0.9806\n",
      "Epoch 49/100\n",
      "8000/8000 [==============================] - 64s 8ms/step - loss: 0.0321 - val_loss: 0.9896\n",
      "Epoch 50/100\n",
      "8000/8000 [==============================] - 64s 8ms/step - loss: 0.0318 - val_loss: 0.9897\n",
      "Epoch 51/100\n",
      "8000/8000 [==============================] - 65s 8ms/step - loss: 0.0315 - val_loss: 0.9890\n",
      "Epoch 52/100\n",
      "8000/8000 [==============================] - 64s 8ms/step - loss: 0.0312 - val_loss: 0.9889\n",
      "Epoch 53/100\n",
      "8000/8000 [==============================] - 64s 8ms/step - loss: 0.0311 - val_loss: 0.9959\n",
      "Epoch 54/100\n",
      "8000/8000 [==============================] - 65s 8ms/step - loss: 0.0310 - val_loss: 0.9963\n",
      "Epoch 55/100\n",
      "8000/8000 [==============================] - 65s 8ms/step - loss: 0.0308 - val_loss: 0.9961\n",
      "Epoch 56/100\n",
      "8000/8000 [==============================] - 64s 8ms/step - loss: 0.0306 - val_loss: 0.9942\n",
      "Epoch 57/100\n",
      "8000/8000 [==============================] - 64s 8ms/step - loss: 0.0297 - val_loss: 1.0052\n",
      "Epoch 58/100\n",
      "8000/8000 [==============================] - 64s 8ms/step - loss: 0.0302 - val_loss: 0.9973\n",
      "Epoch 59/100\n",
      "8000/8000 [==============================] - 64s 8ms/step - loss: 0.0300 - val_loss: 1.0041\n",
      "Epoch 60/100\n",
      "8000/8000 [==============================] - 65s 8ms/step - loss: 0.0296 - val_loss: 1.0002\n",
      "Epoch 61/100\n",
      "8000/8000 [==============================] - 64s 8ms/step - loss: 0.0294 - val_loss: 1.0132\n",
      "Epoch 62/100\n",
      "8000/8000 [==============================] - 64s 8ms/step - loss: 0.0294 - val_loss: 1.0055\n",
      "Epoch 63/100\n",
      "8000/8000 [==============================] - 64s 8ms/step - loss: 0.0291 - val_loss: 1.0045\n",
      "Epoch 64/100\n",
      "8000/8000 [==============================] - 64s 8ms/step - loss: 0.0290 - val_loss: 1.0016\n",
      "Epoch 65/100\n",
      "8000/8000 [==============================] - 64s 8ms/step - loss: 0.0288 - val_loss: 1.0024\n",
      "Epoch 66/100\n",
      "8000/8000 [==============================] - 64s 8ms/step - loss: 0.0286 - val_loss: 1.0144\n",
      "Epoch 67/100\n",
      "8000/8000 [==============================] - 65s 8ms/step - loss: 0.0284 - val_loss: 1.0093\n",
      "Epoch 68/100\n",
      "8000/8000 [==============================] - 63s 8ms/step - loss: 0.0287 - val_loss: 1.0154\n",
      "Epoch 69/100\n",
      "8000/8000 [==============================] - 64s 8ms/step - loss: 0.0283 - val_loss: 1.0148\n",
      "Epoch 70/100\n",
      "8000/8000 [==============================] - 64s 8ms/step - loss: 0.0282 - val_loss: 1.0163\n",
      "Epoch 71/100\n",
      "8000/8000 [==============================] - 64s 8ms/step - loss: 0.0279 - val_loss: 1.0163\n",
      "Epoch 72/100\n",
      "8000/8000 [==============================] - 64s 8ms/step - loss: 0.0279 - val_loss: 1.0228\n",
      "Epoch 73/100\n",
      "8000/8000 [==============================] - 59s 7ms/step - loss: 0.0277 - val_loss: 1.0337\n",
      "Epoch 74/100\n",
      "8000/8000 [==============================] - 54s 7ms/step - loss: 0.0277 - val_loss: 1.0245\n",
      "Epoch 75/100\n",
      "8000/8000 [==============================] - 59s 7ms/step - loss: 0.0272 - val_loss: 1.0207\n",
      "Epoch 76/100\n",
      "8000/8000 [==============================] - 56s 7ms/step - loss: 0.0274 - val_loss: 1.0187\n",
      "Epoch 77/100\n",
      "8000/8000 [==============================] - 64s 8ms/step - loss: 0.0272 - val_loss: 1.0246\n",
      "Epoch 78/100\n"
     ]
    },
    {
     "name": "stdout",
     "output_type": "stream",
     "text": [
      "8000/8000 [==============================] - 60s 8ms/step - loss: 0.0267 - val_loss: 1.0326\n",
      "Epoch 79/100\n",
      "8000/8000 [==============================] - 61s 8ms/step - loss: 0.0268 - val_loss: 1.0303\n",
      "Epoch 80/100\n",
      "8000/8000 [==============================] - 62s 8ms/step - loss: 0.0266 - val_loss: 1.0274\n",
      "Epoch 81/100\n",
      "8000/8000 [==============================] - 62s 8ms/step - loss: 0.0268 - val_loss: 1.0360\n",
      "Epoch 82/100\n",
      "8000/8000 [==============================] - 59s 7ms/step - loss: 0.0264 - val_loss: 1.0323\n",
      "Epoch 83/100\n",
      "8000/8000 [==============================] - 60s 8ms/step - loss: 0.0262 - val_loss: 1.0319\n",
      "Epoch 84/100\n",
      "8000/8000 [==============================] - 61s 8ms/step - loss: 0.0264 - val_loss: 1.0334\n",
      "Epoch 85/100\n",
      "8000/8000 [==============================] - 61s 8ms/step - loss: 0.0262 - val_loss: 1.0410\n",
      "Epoch 86/100\n",
      "8000/8000 [==============================] - 63s 8ms/step - loss: 0.0259 - val_loss: 1.0352\n",
      "Epoch 87/100\n",
      "8000/8000 [==============================] - 64s 8ms/step - loss: 0.0257 - val_loss: 1.0372\n",
      "Epoch 88/100\n",
      "8000/8000 [==============================] - 64s 8ms/step - loss: 0.0260 - val_loss: 1.0410\n",
      "Epoch 89/100\n",
      "8000/8000 [==============================] - 55s 7ms/step - loss: 0.0259 - val_loss: 1.0380\n",
      "Epoch 90/100\n",
      "8000/8000 [==============================] - 60s 8ms/step - loss: 0.0251 - val_loss: 1.0379\n",
      "Epoch 91/100\n",
      "8000/8000 [==============================] - 65s 8ms/step - loss: 0.0258 - val_loss: 1.0467\n",
      "Epoch 92/100\n",
      "8000/8000 [==============================] - 65s 8ms/step - loss: 0.0258 - val_loss: 1.0467\n",
      "Epoch 93/100\n",
      "8000/8000 [==============================] - 62s 8ms/step - loss: 0.0256 - val_loss: 1.0370\n",
      "Epoch 94/100\n",
      "8000/8000 [==============================] - 58s 7ms/step - loss: 0.0252 - val_loss: 1.0484\n",
      "Epoch 95/100\n",
      "8000/8000 [==============================] - 49s 6ms/step - loss: 0.0254 - val_loss: 1.0451\n",
      "Epoch 96/100\n",
      "8000/8000 [==============================] - 32s 4ms/step - loss: 0.0249 - val_loss: 1.0455\n",
      "Epoch 97/100\n",
      "8000/8000 [==============================] - 35s 4ms/step - loss: 0.0250 - val_loss: 1.0466\n",
      "Epoch 98/100\n",
      "8000/8000 [==============================] - 35s 4ms/step - loss: 0.0250 - val_loss: 1.0436\n",
      "Epoch 99/100\n",
      "8000/8000 [==============================] - 37s 5ms/step - loss: 0.0248 - val_loss: 1.0459\n",
      "Epoch 100/100\n",
      "8000/8000 [==============================] - 38s 5ms/step - loss: 0.0251 - val_loss: 1.0526\n"
     ]
    },
    {
     "data": {
      "text/plain": [
       "<keras.callbacks.History at 0x262d8f06dd8>"
      ]
     },
     "execution_count": 25,
     "metadata": {},
     "output_type": "execute_result"
    }
   ],
   "source": [
    "import os\n",
    "model.fit([encoder_input_data, decoder_input_data], decoder_target_data,\n",
    "          batch_size=batch_size,\n",
    "          epochs=epochs,\n",
    "          validation_split=0.2)\n",
    "#model.save('/results/seq2seq_eng-ger.h5')"
   ]
  },
  {
   "cell_type": "code",
   "execution_count": 26,
   "metadata": {},
   "outputs": [],
   "source": [
    "model = Model([encoder_inputs, decoder_inputs], decoder_outputs)\n",
    "model.compile(optimizer='rmsprop', loss='categorical_crossentropy')\n",
    "model.load_weights('C://Users//Ayushi Agarwal//Downloads//seq2seq_eng-ger.h5')"
   ]
  },
  {
   "cell_type": "code",
   "execution_count": 27,
   "metadata": {},
   "outputs": [],
   "source": [
    "encoder_model = Model(encoder_inputs, encoder_states)\n",
    "\n",
    "decoder_state_input_h = Input(shape=(latent_dim,))\n",
    "decoder_state_input_c = Input(shape=(latent_dim,))\n",
    "decoder_states_inputs = [decoder_state_input_h, decoder_state_input_c]\n",
    "\n",
    "decoder_outputs, state_h, state_c = decoder_lstm(\n",
    "  decoder_inputs, initial_state=decoder_states_inputs)\n",
    "decoder_states = [state_h, state_c]\n",
    "decoder_outputs = decoder_dense(decoder_outputs)\n",
    "\n",
    "decoder_model = Model(\n",
    "  [decoder_inputs] + decoder_states_inputs,\n",
    "  [decoder_outputs] + decoder_states)"
   ]
  },
  {
   "cell_type": "code",
   "execution_count": 28,
   "metadata": {},
   "outputs": [],
   "source": [
    "# reverse-lookup token index to turn sequences back to characters\n",
    "reverse_input_char_index = dict(\n",
    "  (i, char) for char, i in input_token_index.items())\n",
    "reverse_target_char_index = dict(\n",
    "  (i, char) for char, i in target_token_index.items())"
   ]
  },
  {
   "cell_type": "code",
   "execution_count": 29,
   "metadata": {},
   "outputs": [],
   "source": [
    "def decode_sequence(input_seq):\n",
    "  # encode the input sequence to get the internal state vectors.\n",
    "  states_value = encoder_model.predict(input_seq)\n",
    "  \n",
    "  # generate empty target sequence of length 1 with only the start character\n",
    "  target_seq = np.zeros((1, 1, num_decoder_tokens))\n",
    "  target_seq[0, 0, target_token_index['\\t']] = 1.\n",
    "  \n",
    "  # output sequence loop\n",
    "  stop_condition = False\n",
    "  decoded_sentence = ''\n",
    "  while not stop_condition:\n",
    "    output_tokens, h, c = decoder_model.predict(\n",
    "      [target_seq] + states_value)\n",
    "    \n",
    "    # sample a token and add the corresponding character to the \n",
    "    # decoded sequence\n",
    "    sampled_token_index = np.argmax(output_tokens[0, -1, :])\n",
    "    sampled_char = reverse_target_char_index[sampled_token_index]\n",
    "    decoded_sentence += sampled_char\n",
    "    \n",
    "    # check for the exit condition: either hitting max length\n",
    "    # or predicting the 'stop' character\n",
    "    if (sampled_char == '\\n' or \n",
    "        len(decoded_sentence) > max_decoder_seq_length):\n",
    "      stop_condition = True\n",
    "     # update the target sequence (length 1).\n",
    "    target_seq = np.zeros((1, 1, num_decoder_tokens))\n",
    "    target_seq[0, 0, sampled_token_index] = 1.\n",
    "    \n",
    "    # update states\n",
    "    states_value = [h, c]\n",
    "    \n",
    "  return decoded_sentence\n",
    "      "
   ]
  },
  {
   "cell_type": "code",
   "execution_count": 30,
   "metadata": {},
   "outputs": [
    {
     "name": "stdout",
     "output_type": "stream",
     "text": [
      "-\n",
      "Input sentence: Hi.\n",
      "Decoded sentence: Hallo!\n",
      "\n",
      "-\n",
      "Input sentence: Hi.\n",
      "Decoded sentence: Hallo!\n",
      "\n",
      "-\n",
      "Input sentence: Run!\n",
      "Decoded sentence: Lauf!\n",
      "\n",
      "-\n",
      "Input sentence: Fire!\n",
      "Decoded sentence: Feuer!\n",
      "\n",
      "-\n",
      "Input sentence: Help!\n",
      "Decoded sentence: Zu Hülf!\n",
      "\n",
      "-\n",
      "Input sentence: Help!\n",
      "Decoded sentence: Zu Hülf!\n",
      "\n",
      "-\n",
      "Input sentence: Stop!\n",
      "Decoded sentence: Stopp!\n",
      "\n",
      "-\n",
      "Input sentence: Wait!\n",
      "Decoded sentence: Warte!\n",
      "\n",
      "-\n",
      "Input sentence: Go on.\n",
      "Decoded sentence: Mach weiter.\n",
      "\n",
      "-\n",
      "Input sentence: Hello!\n",
      "Decoded sentence: Hallo!\n",
      "\n"
     ]
    }
   ],
   "source": [
    "for seq_index in range(10):\n",
    "  input_seq = encoder_input_data[seq_index: seq_index + 1]\n",
    "  decoded_sentence = decode_sequence(input_seq)\n",
    "  print('-')\n",
    "  print('Input sentence:', input_texts[seq_index])\n",
    "  print('Decoded sentence:', decoded_sentence)"
   ]
  },
  {
   "cell_type": "code",
   "execution_count": 31,
   "metadata": {},
   "outputs": [
    {
     "name": "stdout",
     "output_type": "stream",
     "text": [
      "How are you?\n",
      "Wie geht es dir?\n",
      "\n"
     ]
    }
   ],
   "source": [
    "input_sentence = \"How are you?\"\n",
    "test_sentence_tokenized = np.zeros(\n",
    "  (1, max_encoder_seq_length, num_encoder_tokens), dtype='float32')\n",
    "for t, char in enumerate(input_sentence):\n",
    "  test_sentence_tokenized[0, t, input_token_index[char]] = 1.\n",
    "print(input_sentence)\n",
    "print(decode_sequence(test_sentence_tokenized))"
   ]
  },
  {
   "cell_type": "code",
   "execution_count": 32,
   "metadata": {},
   "outputs": [],
   "source": [
    "val_input_texts = []\n",
    "val_target_texts = []\n",
    "line_ix = 12000\n",
    "for line in lines[line_ix:line_ix+10]:\n",
    "  input_text, target_text = line.split('\\t')\n",
    "  val_input_texts.append(input_text)\n",
    "  val_target_texts.append(target_text)\n",
    "\n",
    "val_encoder_input_data = np.zeros(\n",
    "  (len(val_input_texts), max([len(txt) for txt in val_input_texts]),\n",
    "   num_encoder_tokens), dtype='float32')\n",
    "\n",
    "for i, input_text in enumerate(val_input_texts):\n",
    "  for t, char in enumerate(input_text):\n",
    "    val_encoder_input_data[i, t, input_token_index[char]] = 1."
   ]
  },
  {
   "cell_type": "code",
   "execution_count": 33,
   "metadata": {},
   "outputs": [
    {
     "name": "stdout",
     "output_type": "stream",
     "text": [
      "-\n",
      "Input sentence: I bought the car.\n",
      "Decoded sentence: Ich habe es versucht.\n",
      "Ground Truth sentence: Ich habe das Auto gekauft.\n",
      "-\n",
      "Input sentence: I bowed politely.\n",
      "Decoded sentence: Ich habe eine gefunden.\n",
      "Ground Truth sentence: Ich verbeugte mich höflich.\n",
      "-\n",
      "Input sentence: I broke that one.\n",
      "Decoded sentence: Ich habe es kaputtgemacht.\n",
      "Ground Truth sentence: Ich habe das zerbrochen.\n",
      "-\n",
      "Input sentence: I came to say hi.\n",
      "Decoded sentence: Ich kam wegen Tom.\n",
      "Ground Truth sentence: Ich bin gekommen, um Hallo zu sagen.\n",
      "-\n",
      "Input sentence: I came yesterday.\n",
      "Decoded sentence: Ich bin mit dem Bus gekommen.\n",
      "Ground Truth sentence: Ich bin gestern gekommen.\n",
      "-\n",
      "Input sentence: I can bake bread.\n",
      "Decoded sentence: Ich kann es schaffen.\n",
      "Ground Truth sentence: Ich kann Brot backen.\n",
      "-\n",
      "Input sentence: I can be trusted.\n",
      "Decoded sentence: Ich kann nicht schwimmen.\n",
      "Ground Truth sentence: Man kann mir vertrauen.\n",
      "-\n",
      "Input sentence: I can carry that.\n",
      "Decoded sentence: Ich kann es schaffen.\n",
      "Ground Truth sentence: Ich kann das tragen.\n",
      "-\n",
      "Input sentence: I can explain it.\n",
      "Decoded sentence: Ich kann es beweisen.\n",
      "Ground Truth sentence: Ich kann es erklären.\n",
      "-\n",
      "Input sentence: I can name names.\n",
      "Decoded sentence: Ich kann singen.\n",
      "Ground Truth sentence: Ich weiß die Namen.\n"
     ]
    }
   ],
   "source": [
    "for seq_index in range(10):\n",
    "  input_seq = val_encoder_input_data[seq_index: seq_index + 1]\n",
    "  decoded_sentence = decode_sequence(input_seq)\n",
    "  print('-')\n",
    "  print('Input sentence:', val_input_texts[seq_index])\n",
    "  print('Decoded sentence:', decoded_sentence[:-1])\n",
    "  print('Ground Truth sentence:', val_target_texts[seq_index])"
   ]
  },
  {
   "cell_type": "code",
   "execution_count": null,
   "metadata": {},
   "outputs": [],
   "source": []
  },
  {
   "cell_type": "code",
   "execution_count": null,
   "metadata": {},
   "outputs": [],
   "source": []
  }
 ],
 "metadata": {
  "kernelspec": {
   "display_name": "Python 3",
   "language": "python",
   "name": "python3"
  },
  "language_info": {
   "codemirror_mode": {
    "name": "ipython",
    "version": 3
   },
   "file_extension": ".py",
   "mimetype": "text/x-python",
   "name": "python",
   "nbconvert_exporter": "python",
   "pygments_lexer": "ipython3",
   "version": "3.6.8"
  }
 },
 "nbformat": 4,
 "nbformat_minor": 2
}
